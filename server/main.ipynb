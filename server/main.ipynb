{
 "cells": [
  {
   "cell_type": "code",
   "execution_count": null,
   "metadata": {},
   "outputs": [],
   "source": [
    "import numpy as np\n",
    "from scipy import optimize, stats\n",
    "from sklearn.neighbors import KernelDensity\n",
    "import pandas as pd\n",
    "import matplotlib.pyplot as plt\n",
    "import seaborn as sns\n",
    "sns.set(style='white', palette='Set2')\n",
    "import ray\n",
    "ray.init()"
   ]
  },
  {
   "cell_type": "code",
   "execution_count": null,
   "metadata": {},
   "outputs": [],
   "source": [
    "df = pd.read_csv('data.csv', index_col=[0,1])"
   ]
  },
  {
   "cell_type": "code",
   "execution_count": null,
   "metadata": {},
   "outputs": [],
   "source": [
    "lst_date = sorted(list(set(df['date.1'])))\n",
    "ndate = len(lst_date)\n",
    "\n",
    "# lst_stock = sorted(list(set(df.loc['2016-02-16']['Name.1'])))\n",
    "set_stock = set(df.loc['2013-02-11']['Name.1'])\n",
    "for i in lst_date:\n",
    "    set_stock = set_stock & set(df.loc[i]['Name.1'])\n",
    "lst_stock = sorted(list(set_stock))\n",
    "nstock = len(lst_stock)"
   ]
  },
  {
   "cell_type": "code",
   "execution_count": null,
   "metadata": {},
   "outputs": [],
   "source": [
    "plt.plot(df.swaplevel().loc['AAPL']['return'].values)\n",
    "plt.legend(['AAPL'])\n",
    "plt.show()"
   ]
  },
  {
   "cell_type": "code",
   "execution_count": null,
   "metadata": {},
   "outputs": [],
   "source": [
    "plt.hist(df.swaplevel().loc['AAPL']['return'].values, bins=100)\n",
    "plt.legend(['AAPL'])\n",
    "plt.show()"
   ]
  },
  {
   "cell_type": "code",
   "execution_count": null,
   "metadata": {},
   "outputs": [],
   "source": []
  },
  {
   "cell_type": "markdown",
   "metadata": {},
   "source": [
    "utils"
   ]
  },
  {
   "cell_type": "code",
   "execution_count": null,
   "metadata": {},
   "outputs": [],
   "source": [
    "def ratio2num(p, w):\n",
    "    # from ratio to number, a good rounding function\n",
    "    # print(w)\n",
    "    assert np.abs(w.sum() - 1) < 1e-5 and len(w.shape) == 1\n",
    "    L = w.shape[0]\n",
    "    nums = p * w\n",
    "    rnums = np.round(nums)\n",
    "\n",
    "    if rnums.sum() > p:\n",
    "        idx = np.argsort(rnums - nums)[::-1][:int(rnums.sum() - p)]\n",
    "        rnums[idx] = rnums[idx] - 1\n",
    "    elif rnums.sum() < p:\n",
    "        idx = np.argsort(nums - rnums)[::-1][:int(p - rnums.sum())]\n",
    "        rnums[idx] = rnums[idx] + 1\n",
    "\n",
    "    return rnums"
   ]
  },
  {
   "cell_type": "code",
   "execution_count": null,
   "metadata": {},
   "outputs": [],
   "source": [
    "suitable_pairs = {\n",
    "    1: [[1]],\n",
    "    2: [[2,0],[0,1]],\n",
    "    3: [[3,0,0],[1,1,0],[0,0,1]],\n",
    "    4: [[4,0,0,0],[2,1,0,0],[1,0,1,0],[0,0,0,1]],\n",
    "    5: [[5,0,0,0,0],[3,1,0,0,0],[2,0,1,0,0],[1,2,0,0,0],[1,0,0,1,0],[0,1,1,0,0],[0,0,0,0,1]],\n",
    "    6: [[6,0,0,0,0,0],[4,1,0,0,0,0],[3,0,1,0,0,0],[2,2,0,0,0,0],[2,0,0,1,0,0],[1,1,1,0,0,0],[1,0,0,0,1,0],[0,3,0,0,0,0],[0,1,0,1,0,0],[0,0,2,0,0,0],[0,0,0,0,0,1]],\n",
    "    7: [[7,0,0,0,0,0,0],[5,1,0,0,0,0,0],[4,0,1,0,0,0,0],[3,2,0,0,0,0,0],[3,0,0,1,0,0,0],[2,1,1,0,0,0,0],[2,0,0,0,1,0,0],[1,3,0,0,0,0,0],[1,1,0,1,0,0,0],[1,0,2,0,0,0,0],[1,0,0,0,0,1,0],[0,2,1,0,0,0,0],[0,1,0,0,1,0,0],[0,0,1,1,0,0,0],[0,0,0,0,0,0,1]]\n",
    "}"
   ]
  },
  {
   "cell_type": "code",
   "execution_count": null,
   "metadata": {},
   "outputs": [],
   "source": [
    "def icd(t, alpha):\n",
    "    # inverse cubic density\n",
    "    c = 2 * (1 - alpha)**2\n",
    "    a = 2 * alpha - 1\n",
    "    h = (t >= alpha) * c / (t - a)**3\n",
    "    return h"
   ]
  },
  {
   "cell_type": "code",
   "execution_count": null,
   "metadata": {},
   "outputs": [],
   "source": [
    "def icd_qtile(q, alpha):\n",
    "    # quantile of inverse cubic density\n",
    "    c = 2 * (1 - alpha)**2\n",
    "    a = 2 * alpha - 1\n",
    "    return a + np.sqrt(c / 2 / (1 - q))"
   ]
  },
  {
   "cell_type": "code",
   "execution_count": null,
   "metadata": {},
   "outputs": [],
   "source": [
    "def intg(s, alpha):\n",
    "    c = 2 * (1 - alpha)**2\n",
    "    a = 2 * alpha - 1\n",
    "    sa1 = 1 + s * a\n",
    "    intg = c * s / sa1**3 * np.log((1 - alpha) / (alpha + 1 / s)) + 2 * (1 - alpha) / sa1**2 + a / sa1\n",
    "    return intg"
   ]
  },
  {
   "cell_type": "code",
   "execution_count": null,
   "metadata": {},
   "outputs": [],
   "source": [
    "def lsd_icd(n, p, x, alpha, niter=50000):\n",
    "    # LSD corresponding to an inverse cubic density\n",
    "    eps = 1e-6\n",
    "    z = x + eps * 1j\n",
    "\n",
    "    # optimization\n",
    "    opt = optimize.root(lambda s: s * (p / n * intg(s, alpha) - z) - 1, x0=np.ones_like(z) * 0.01j, method='krylov')\n",
    "    s, flag = opt.x, opt.success\n",
    "    \n",
    "    # fixed point iteration\n",
    "    # s = np.ones_like(z) * 1j\n",
    "    # for _ in range(niter):\n",
    "    #     s = 1 / (p / n * intg(s, alpha) - z)\n",
    "\n",
    "    f = s.imag * n / p / np.pi\n",
    "    return f"
   ]
  },
  {
   "cell_type": "code",
   "execution_count": null,
   "metadata": {},
   "outputs": [],
   "source": []
  },
  {
   "cell_type": "markdown",
   "metadata": {},
   "source": [
    "spectrum correction"
   ]
  },
  {
   "cell_type": "code",
   "execution_count": null,
   "metadata": {},
   "outputs": [],
   "source": [
    "def spec_mom(n, p, L, eig_vals):\n",
    "    y = p / n\n",
    "    k = 2 * L - 1\n",
    "\n",
    "    theta0 = np.concatenate([np.ones(L - 1) / L, (np.ones(L) + np.clip(np.random.randn(L), 0, 1)) * np.exp(np.log(eig_vals).mean())]) # first L-1 is w_1 ... w_{L-1}, last L is \\lambda_1 ... \\lambda_L\n",
    "    fwl = lambda theta: 1 - theta[:L-1].sum() # w_L\n",
    "    fbeta = lambda theta: np.array([theta[:L-1] @ theta[L-1:2*L-2]**i + fwl(theta) * theta[-1]**i for i in range(1, k + 1)])\n",
    "    falphaj = lambda beta, j: np.sum([y**(p.sum() - 1) * np.exp(p @ np.log(beta)) * np.math.factorial(j) / np.math.factorial(j + 1 - p.sum()) / np.prod(list(map(np.math.factorial, p))) for p in np.array(suitable_pairs[j])])\n",
    "    falpha = lambda beta: np.array([falphaj(beta[:j], j) for j in range(1, k + 1)])\n",
    "\n",
    "    alpha = np.array([np.mean(eig_vals**i) for i in range(1, k + 1)])\n",
    "    opt = optimize.minimize(lambda theta: 1e5 * np.sum((falpha(fbeta(theta)) - alpha)**2), theta0)\n",
    "    theta, flag = opt.x, opt.success\n",
    "    \n",
    "    return np.concatenate([theta[:L-1], [fwl(theta)]]), theta[L-1:]\n",
    "    "
   ]
  },
  {
   "cell_type": "code",
   "execution_count": null,
   "metadata": {},
   "outputs": [],
   "source": [
    "def spec_lse(n, p, eig_vals):\n",
    "    # in this project, we consider inverse cubic density for H(t), parametrized by \\alpha\n",
    "    unet = np.linspace(-10, 0, 50, endpoint=False)\n",
    "    sn = np.zeros_like(unet)\n",
    "    for i in range(unet.shape[0]):\n",
    "        sn[i] = - (1 - p / n) / unet[i] + np.sum(1 / (eig_vals - unet[i])) / n\n",
    "    \n",
    "    def hat_unet(alpha):\n",
    "        c = 2 * (1 - alpha)**2\n",
    "        a = 2 * alpha - 1\n",
    "        sa1 = 1 + sn * a\n",
    "        intg = c * sn / sa1**3 * np.log((1 - alpha) / (alpha + 1 / sn)) + 2 * (1 - alpha) / sa1**2 + a / sa1\n",
    "        return - 1 / sn + p / n * intg\n",
    "    \n",
    "    cons = ({'type': 'ineq', 'fun': lambda x: x - 1e-10}, {'type': 'ineq', 'fun': lambda x: 1 - 1e-10 - x})\n",
    "    opt = optimize.minimize(lambda alpha: np.sum((unet - hat_unet(alpha))**2), x0=0.5, constraints=cons)\n",
    "    alpha, flag = opt.x, opt.success\n",
    "    \n",
    "    return alpha"
   ]
  },
  {
   "cell_type": "code",
   "execution_count": null,
   "metadata": {},
   "outputs": [],
   "source": []
  },
  {
   "cell_type": "markdown",
   "metadata": {},
   "source": [
    "equal, plug-in, bootstrap enhancement, spectrum-corrected estimator"
   ]
  },
  {
   "cell_type": "code",
   "execution_count": null,
   "metadata": {},
   "outputs": [],
   "source": [
    "def equal(n, p, sigma0, seed=1234):\n",
    "    if seed != None:\n",
    "        np.random.seed(seed)\n",
    "    dates = lst_date[-n:]\n",
    "    stocks = np.random.choice(lst_stock, p, replace=False)\n",
    "    df_new = df.loc[dates].swaplevel().loc[stocks].swaplevel()['return']\n",
    "    \n",
    "    x = np.array(df_new).reshape(p, n) # p*n array\n",
    "    bar_x = x.mean(axis=1)\n",
    "    demean_x = x - bar_x.reshape(p, 1)\n",
    "    bar_S = demean_x @ demean_x.T / n\n",
    "\n",
    "    hat_c = np.ones(p) / p\n",
    "    hat_R = hat_c @ bar_x\n",
    "    hat_r = hat_c @ (bar_S @ hat_c)\n",
    "\n",
    "    return bar_x, bar_S, hat_c, hat_R, hat_r"
   ]
  },
  {
   "cell_type": "code",
   "execution_count": null,
   "metadata": {},
   "outputs": [],
   "source": [
    "def plugin(n, p, sigma0, x=None, seed=1234):\n",
    "    if seed != None:\n",
    "        np.random.seed(seed)\n",
    "    dates = lst_date[-n:]\n",
    "    stocks = np.random.choice(lst_stock, p, replace=False)\n",
    "    df_new = df.loc[dates].swaplevel().loc[stocks].swaplevel()['return']\n",
    "\n",
    "    if type(x) != np.ndarray: # x can be given as bootstrap samples\n",
    "        x = np.array(df_new).reshape(p, n) # p*n array\n",
    "    bar_x = x.mean(axis=1)\n",
    "    demean_x = x - bar_x.reshape(p, 1)\n",
    "    bar_S = demean_x @ demean_x.T / n\n",
    "    \n",
    "    ones = np.ones(p)\n",
    "    S_inv_x = np.linalg.solve(bar_S, bar_x)\n",
    "    S_inv_1 = np.linalg.solve(bar_S, ones)\n",
    "    if sigma0 * ones @ S_inv_x < np.sqrt(bar_x @ S_inv_x):\n",
    "        hat_c = sigma0 * S_inv_x / np.sqrt(bar_x @ S_inv_x)\n",
    "    else:\n",
    "        hat_b = np.sqrt((sigma0**2 * ones @ S_inv_1 - 1) / ((bar_x @ S_inv_x) * (ones @ S_inv_1) - (ones @ S_inv_x)**2))\n",
    "        hat_c = S_inv_1 / (ones @ S_inv_1) + hat_b * (S_inv_x - (ones @ S_inv_x)/(ones @ S_inv_1) * S_inv_1)\n",
    "\n",
    "    hat_R = hat_c @ bar_x\n",
    "    hat_r = hat_c @ (bar_S @ hat_c)\n",
    "\n",
    "    return bar_x, bar_S, hat_c, hat_R, hat_r"
   ]
  },
  {
   "cell_type": "code",
   "execution_count": null,
   "metadata": {},
   "outputs": [],
   "source": [
    "def bootstrap(n, p, sigma0, repeats=30, seed=1234):\n",
    "    bar_x, bar_S, cp, Rp, _ = plugin(n, p, sigma0, seed=seed) # plug-in estimator\n",
    "    \n",
    "    cs, Rs = [], []\n",
    "    for _ in range(repeats):\n",
    "        bsample = np.random.multivariate_normal(mean=bar_x, cov=bar_S, size=n).T # p*n \n",
    "        _, _, cb, Rb, _ = plugin(n, p, sigma0, x=bsample, seed=None)\n",
    "        cs.append(cb)\n",
    "        Rs.append(Rb)\n",
    "    \n",
    "    gamma = 1 / (1 - p / n)\n",
    "    hat_c = cp + (cp - np.array(cs).mean(axis=0)) / np.sqrt(gamma)\n",
    "    hat_R = Rp + (Rp - np.mean(Rs)) / np.sqrt(gamma)\n",
    "    hat_r = hat_c @ (bar_S @ hat_c)\n",
    "\n",
    "    return bar_x, bar_S, hat_c, hat_R, hat_r"
   ]
  },
  {
   "cell_type": "code",
   "execution_count": null,
   "metadata": {},
   "outputs": [],
   "source": [
    "def spectrum(n, p, sigma0, method='lse', nspike=0, alpha=None, seed=1234):\n",
    "    bar_x, bar_S, cp, Rp, _ = plugin(n, p, sigma0, seed=seed) # plug-in estimator\n",
    "\n",
    "    # spectral decomposition\n",
    "    std = np.sqrt(np.diag(bar_S))\n",
    "    corr = np.diag(1 / std) @ bar_S @ np.diag(1 / std)\n",
    "    eig_vals, eig_vecs = np.linalg.eig(corr)\n",
    "    idx = eig_vals.argsort() # from small to large\n",
    "    eig_vals, eig_vecs = eig_vals[idx], eig_vecs[:, idx]\n",
    "\n",
    "    # spectrum correction\n",
    "    if method == 'lse': # use inverse cubic density\n",
    "        if alpha == None:\n",
    "            alpha = spec_lse(n, p, eig_vals) if nspike == 0 else spec_lse(n, p, eig_vals[:-nspike])\n",
    "        # print(alpha)\n",
    "        spec = icd_qtile(np.linspace(1 / 2 / p, 1 - 1 / 2 / p, p), alpha)\n",
    "    else:\n",
    "        raise NotImplementedError\n",
    "    \n",
    "    hat_Sigma = np.diag(std) @ eig_vecs @ np.diag(spec) @ eig_vecs.T @ np.diag(std) # corrected estimate of covariance\n",
    "\n",
    "    ones = np.ones(p)\n",
    "    S_inv_x = np.linalg.solve(hat_Sigma, bar_x)\n",
    "    S_inv_1 = np.linalg.solve(hat_Sigma, ones)\n",
    "    if sigma0 * ones @ S_inv_x < np.sqrt(bar_x @ S_inv_x):\n",
    "        hat_c = sigma0 * S_inv_x / np.sqrt(bar_x @ S_inv_x)\n",
    "    else:\n",
    "        hat_b = np.sqrt((sigma0**2 * ones @ S_inv_1 - 1) / ((bar_x @ S_inv_x) * (ones @ S_inv_1) - (ones @ S_inv_x)**2))\n",
    "        hat_c = S_inv_1 / (ones @ S_inv_1) + hat_b * (S_inv_x - (ones @ S_inv_x)/(ones @ S_inv_1) * S_inv_1)\n",
    "\n",
    "    hat_R = hat_c @ bar_x\n",
    "    hat_r = hat_c @ (hat_Sigma @ hat_c)\n",
    "\n",
    "    return bar_x, hat_Sigma, hat_c, hat_R, hat_r"
   ]
  },
  {
   "cell_type": "code",
   "execution_count": null,
   "metadata": {},
   "outputs": [],
   "source": []
  },
  {
   "cell_type": "code",
   "execution_count": null,
   "metadata": {},
   "outputs": [],
   "source": []
  },
  {
   "cell_type": "markdown",
   "metadata": {},
   "source": [
    "spectral decomposition"
   ]
  },
  {
   "cell_type": "code",
   "execution_count": null,
   "metadata": {},
   "outputs": [],
   "source": [
    "np.random.seed(1234)\n",
    "\n",
    "for n in [500, 1000]:\n",
    "    for p in [5, 10, 20, 50, 100, 200, 400]:\n",
    "        dates = lst_date[-n:]\n",
    "        stocks = np.random.choice(lst_stock, p, replace=False)\n",
    "        df_new = df.swaplevel().loc[stocks].swaplevel().loc[dates]['return']\n",
    "        x = np.array(df_new).reshape(p, n)\n",
    "\n",
    "        eig_vals, eig_vecs = np.linalg.eig(np.corrcoef(x))\n",
    "        idx = eig_vals.argsort()[::-1]\n",
    "        eig_vals, eig_vecs = eig_vals[idx], eig_vecs[:, idx]\n",
    "\n",
    "        plt.scatter(range(len(eig_vals)), eig_vals, s=10)\n",
    "        plt.axvline(p/20, c='orange', linestyle='--')\n",
    "        plt.xlabel('n={}, p={}'.format(n, p))\n",
    "        plt.ylabel('value')\n",
    "        # plt.show()\n",
    "        plt.savefig('fig/eig-n{}-p{}.png'.format(n, p))\n",
    "        plt.cla()"
   ]
  },
  {
   "cell_type": "code",
   "execution_count": null,
   "metadata": {},
   "outputs": [],
   "source": [
    "np.random.seed(1234)\n",
    "alpha_dict = {}\n",
    "eig_vals_dict = {}\n",
    "n = 500\n",
    "for p in [50, 200, 400]:\n",
    "    dates = lst_date[-n:]\n",
    "    stocks = np.random.choice(lst_stock, p, replace=False)\n",
    "    df_new = df.swaplevel().loc[stocks].swaplevel().loc[dates]['return']\n",
    "    x = np.array(df_new).reshape(p, n)\n",
    "\n",
    "    eig_vals, eig_vecs = np.linalg.eig(np.corrcoef(x))\n",
    "    idx = eig_vals.argsort()[::-1]\n",
    "    eig_vals, eig_vecs = eig_vals[idx], eig_vecs[:, idx]\n",
    "    eig_vals_dict[p] = eig_vals\n",
    "\n",
    "    alpha_dict[p] = []\n",
    "    for i in range(31): # number of spikes\n",
    "        alpha_dict[p].append(spec_lse(n, p, eig_vals[i:]))"
   ]
  },
  {
   "cell_type": "code",
   "execution_count": null,
   "metadata": {},
   "outputs": [],
   "source": [
    "for p in alpha_dict.keys():\n",
    "    plt.plot(np.arange(31), alpha_dict[p], marker='o', markersize=4)\n",
    "plt.legend(['p={}'.format(p) for p in alpha_dict.keys()])\n",
    "plt.xlabel('number of deleted eigenvalues')\n",
    "plt.ylabel('estimated alpha')\n",
    "plt.show()"
   ]
  },
  {
   "cell_type": "code",
   "execution_count": null,
   "metadata": {},
   "outputs": [],
   "source": [
    "print(alpha_dict[50][50//20], alpha_dict[200][200//20], alpha_dict[400][400//20])"
   ]
  },
  {
   "cell_type": "code",
   "execution_count": null,
   "metadata": {},
   "outputs": [],
   "source": [
    "vals = eig_vals_dict[400][400//20:]\n",
    "axis = np.linspace(0, np.max(vals), 100)\n",
    "\n",
    "kde = KernelDensity(kernel='gaussian', bandwidth=0.04).fit(vals.reshape(-1, 1))\n",
    "logprob = kde.score_samples(axis.reshape(-1, 1))\n",
    "plt.plot(axis, np.exp(logprob))\n",
    "plt.plot(axis, lsd_icd(n, 400, axis, alpha_dict[400][400//20]), linestyle='--')\n",
    "plt.plot(axis, lsd_icd(n, 400, axis, 0.99), linestyle='--')\n",
    "plt.plot(axis, np.zeros(100), c='black', linestyle='--')\n",
    "plt.plot(vals, np.full_like(vals, -0.01), '|k', markeredgewidth=1)\n",
    "plt.legend(['empirical', 'fitted', 'M-P'])\n",
    "plt.xlabel('n=500, p=400')\n",
    "plt.ylabel('density')\n",
    "plt.show()"
   ]
  },
  {
   "cell_type": "code",
   "execution_count": null,
   "metadata": {},
   "outputs": [],
   "source": [
    "for p in alpha_dict.keys():\n",
    "    vals = eig_vals_dict[p][p//20:]\n",
    "    axis = np.linspace(0, np.max(vals), 100)\n",
    "\n",
    "    kde = KernelDensity(kernel='gaussian', bandwidth=0.04).fit(vals.reshape(-1, 1))\n",
    "    logprob = kde.score_samples(axis.reshape(-1, 1))\n",
    "    plt.plot(axis, np.exp(logprob))\n",
    "    plt.plot(axis, icd(axis, alpha_dict[p][p//20]), linestyle='--')\n",
    "    plt.plot(axis, np.zeros(100), c='black', linestyle='--')\n",
    "    plt.plot(vals, np.full_like(vals, -0.01), '|k', markeredgewidth=1)\n",
    "    plt.legend(['ESD', 'PSD'])\n",
    "    plt.xlabel('n=500, p={}'.format(p))\n",
    "    plt.ylabel('density')\n",
    "    plt.show()"
   ]
  },
  {
   "cell_type": "code",
   "execution_count": null,
   "metadata": {},
   "outputs": [],
   "source": []
  },
  {
   "cell_type": "code",
   "execution_count": null,
   "metadata": {},
   "outputs": [],
   "source": []
  },
  {
   "cell_type": "markdown",
   "metadata": {},
   "source": [
    "Markowitz"
   ]
  },
  {
   "cell_type": "code",
   "execution_count": null,
   "metadata": {},
   "outputs": [],
   "source": [
    "info = np.zeros((45, 2, 8)) # p*quantity*method\n",
    "n = 500\n",
    "for i, p in enumerate(np.linspace(10, 450, 45)):\n",
    "    _, _, _, Rp, rp = equal(n, int(p), 1)\n",
    "    info[i, :, 0] = [Rp, rp]\n",
    "    _, _, _, Rp, rp = plugin(n, int(p), 1)\n",
    "    info[i, :, 1] = [Rp, rp]\n",
    "    _, _, cp, Rp, rp = bootstrap(n, int(p), 1, repeats=1)\n",
    "    info[i, :, 2] = [Rp, rp]\n",
    "    _, _, cp, Rp, rp = bootstrap(n, int(p), 1, repeats=10)\n",
    "    info[i, :, 3] = [Rp, rp]\n",
    "    _, _, cp, Rp, rp = bootstrap(n, int(p), 1, repeats=30)\n",
    "    info[i, :, 4] = [Rp, rp]\n",
    "    _, _, cp, Rp, rp = spectrum(n, int(p), 1, nspike=int(p//20))\n",
    "    info[i, :, 5] = [Rp, rp]\n",
    "    _, _, cp, Rp, rp = spectrum(n, int(p), 1, alpha=0)\n",
    "    info[i, :, 6] = [Rp, rp]\n",
    "    _, _, cp, Rp, rp = spectrum(n, int(p), 1, alpha=0.99)\n",
    "    info[i, :, 7] = [Rp, rp]\n",
    "    \n",
    "    if (i + 1) % 5 == 0:\n",
    "        print(i + 1)"
   ]
  },
  {
   "cell_type": "code",
   "execution_count": null,
   "metadata": {},
   "outputs": [],
   "source": [
    "np.save('info.npy', info)"
   ]
  },
  {
   "cell_type": "code",
   "execution_count": null,
   "metadata": {},
   "outputs": [],
   "source": [
    "# bootstrap repeats comparison\n",
    "for i in range(2, 5):\n",
    "    plt.figure(figsize=(4,8),dpi=80)\n",
    "    plt.plot(np.linspace(10, 450, 45), info[:, 0, 1])\n",
    "    plt.plot(np.linspace(10, 450, 45), info[:, 0, i], linestyle='--')\n",
    "    plt.legend(['plug-in', 'bootstrap'])\n",
    "    plt.xlabel('p')\n",
    "    plt.ylabel('estimated optimal return')\n",
    "    plt.show()"
   ]
  },
  {
   "cell_type": "code",
   "execution_count": null,
   "metadata": {},
   "outputs": [],
   "source": [
    "# spectrum comparison\n",
    "plt.plot(np.linspace(10, 450, 45), info[:, 0, 1])\n",
    "for i in range(5, 8):\n",
    "    plt.plot(np.linspace(10, 450, 45), info[:, 0, i], linestyle='--')\n",
    "\n",
    "plt.legend(['plug-in', 'spectrum fitted', 'spectrum 0', 'spectrum 1 (M-P)'])\n",
    "plt.xlabel('p')\n",
    "plt.ylabel('estimated optimal return')\n",
    "plt.show()"
   ]
  },
  {
   "cell_type": "code",
   "execution_count": null,
   "metadata": {},
   "outputs": [],
   "source": [
    "# # return, R\n",
    "# for i in range(8):\n",
    "#     plt.plot(np.linspace(10, 450, 45), info[:, 0, i])\n",
    "# plt.legend(['equal', 'plug-in', 'bootstrap 1', 'bootstrap 10', 'bootstrap 30', 'spectrum fitted', 'spectrum 0', 'spectrum 1'])\n",
    "# plt.xlabel('p')\n",
    "# plt.ylabel('estimated optimal return')\n",
    "# plt.show()"
   ]
  },
  {
   "cell_type": "code",
   "execution_count": null,
   "metadata": {},
   "outputs": [],
   "source": [
    "# # variance, r\n",
    "# for i in range(8):\n",
    "#     plt.plot(np.linspace(10, 450, 45), info[:, 1, i])\n",
    "# plt.legend(['equal', 'plug-in', 'bootstrap 1', 'bootstrap 10', 'bootstrap 30', 'spectrum fitted', 'spectrum 0', 'spectrum 1'])\n",
    "# plt.xlabel('p')\n",
    "# plt.ylabel('estimated variance')\n",
    "# plt.show()"
   ]
  },
  {
   "cell_type": "code",
   "execution_count": null,
   "metadata": {},
   "outputs": [],
   "source": []
  },
  {
   "cell_type": "code",
   "execution_count": null,
   "metadata": {},
   "outputs": [],
   "source": [
    "@ray.remote\n",
    "def frep(rep):\n",
    "    info = np.zeros((4, 3)) # p*method\n",
    "    n = 500\n",
    "    for i, p in enumerate([50, 100, 200, 400]):\n",
    "        _, _, _, info[i, 0], _ = plugin(n, int(p), 1, seed=rep)\n",
    "        _, _, _, info[i, 1], _ = bootstrap(n, int(p), 1, repeats=30, seed=rep)\n",
    "        _, _, _, info[i, 2], _ = spectrum(n, int(p), 1, nspike=int(p//20), seed=rep)\n",
    "        print('rep={}, p={}'.format(rep, p))\n",
    "    \n",
    "    return info"
   ]
  },
  {
   "cell_type": "code",
   "execution_count": null,
   "metadata": {},
   "outputs": [],
   "source": [
    "future = [frep.remote(rep) for rep in range(200)]\n",
    "info2 = ray.get(future)"
   ]
  },
  {
   "cell_type": "code",
   "execution_count": null,
   "metadata": {},
   "outputs": [],
   "source": [
    "info2 = np.array(info2)\n",
    "np.save('info2-rep200-boot30.npy', info2)"
   ]
  },
  {
   "cell_type": "code",
   "execution_count": null,
   "metadata": {},
   "outputs": [],
   "source": [
    "# info2 = np.load('info2-rep200-boot30.npy')\n",
    "for i in range(4):\n",
    "    plt.figure(figsize=(16, 4), dpi=80)\n",
    "    plt.plot(np.arange(200), info2[:200, i, 0])\n",
    "    plt.plot(np.arange(200), info2[:200, i, 1])\n",
    "    plt.plot(np.arange(200), info2[:200, i, 2])\n",
    "    plt.legend(['plug-in', 'bootstrap', 'spectrum'])\n",
    "    plt.xlabel('repeats')\n",
    "    plt.ylabel('estimated optimal return')\n",
    "    plt.show()"
   ]
  },
  {
   "cell_type": "code",
   "execution_count": null,
   "metadata": {},
   "outputs": [],
   "source": []
  },
  {
   "cell_type": "code",
   "execution_count": null,
   "metadata": {},
   "outputs": [],
   "source": [
    "@ray.remote\n",
    "def frep_c(rep):\n",
    "    Rs = np.zeros((4, 3)) # p*method\n",
    "    cs = np.zeros((4, 3, 400))\n",
    "    n = 500\n",
    "    for i, p in enumerate([50, 100, 200, 400]):\n",
    "        _, _, cs[i, 0, :p], Rs[i, 0], _ = plugin(n, int(p), 1, seed=rep)\n",
    "        _, _, cs[i, 1, :p], Rs[i, 1], _ = bootstrap(n, int(p), 1, repeats=30, seed=rep)\n",
    "        _, _, cs[i, 2, :p], Rs[i, 2], _ = spectrum(n, int(p), 1, nspike=int(p//20), seed=rep)\n",
    "        print('rep={}, p={}'.format(rep, p))\n",
    "    \n",
    "    return Rs, cs"
   ]
  },
  {
   "cell_type": "code",
   "execution_count": null,
   "metadata": {},
   "outputs": [],
   "source": [
    "future = frep_c.remote(1234)\n",
    "info3 = ray.get(future)"
   ]
  },
  {
   "cell_type": "code",
   "execution_count": null,
   "metadata": {},
   "outputs": [],
   "source": [
    "for i, p in enumerate([50, 100, 200, 400]):\n",
    "    plt.figure(figsize=(16, 4), dpi=80)\n",
    "    plt.hist(info3[1][i, 0, :p], bins=30, alpha=0.9)\n",
    "    plt.hist(info3[1][i, 1, :p], bins=30, alpha=0.9)\n",
    "    plt.hist(info3[1][i, 2, :p], bins=30, alpha=0.9)\n",
    "    plt.legend(['plug-in', 'bootstrap', 'spectrum'])\n",
    "    plt.xlabel('estimated optimal allocation')\n",
    "    plt.ylabel('frequency')\n",
    "    plt.show()"
   ]
  },
  {
   "cell_type": "code",
   "execution_count": null,
   "metadata": {},
   "outputs": [],
   "source": []
  },
  {
   "cell_type": "code",
   "execution_count": null,
   "metadata": {},
   "outputs": [],
   "source": []
  },
  {
   "cell_type": "markdown",
   "metadata": {},
   "source": [
    "backtesting"
   ]
  },
  {
   "cell_type": "code",
   "execution_count": null,
   "metadata": {},
   "outputs": [],
   "source": [
    "@ray.remote\n",
    "def backtest_equal(n, p, sigma0, end_date, seed=1234):\n",
    "    if seed != None:\n",
    "        np.random.seed(seed)\n",
    "    dates = lst_date[-n-end_date-1:-end_date-1]\n",
    "    df_new = df.loc[dates].swaplevel().loc[stocks].swaplevel()['return']\n",
    "    \n",
    "    x = np.array(df_new).reshape(p, n) # p*n array\n",
    "    bar_x = x.mean(axis=1)\n",
    "    demean_x = x - bar_x.reshape(p, 1)\n",
    "    bar_S = demean_x @ demean_x.T / n\n",
    "\n",
    "    hat_c = np.ones(p) / p\n",
    "    hat_R = hat_c @ bar_x\n",
    "    hat_r = hat_c @ (bar_S @ hat_c)\n",
    "\n",
    "    print('equal: end_date={}'.format(end_date))\n",
    "    return bar_x, bar_S, hat_c, hat_R, hat_r, end_date"
   ]
  },
  {
   "cell_type": "code",
   "execution_count": null,
   "metadata": {},
   "outputs": [],
   "source": [
    "@ray.remote\n",
    "def backtest_plugin(n, p, sigma0, end_date, x=None, seed=1234):\n",
    "    if seed != None:\n",
    "        np.random.seed(seed)\n",
    "    dates = lst_date[-n-end_date-1:-end_date-1]\n",
    "    df_new = df.loc[dates].swaplevel().loc[stocks].swaplevel()['return']\n",
    "\n",
    "    if type(x) != np.ndarray: # x can be given as bootstrap samples\n",
    "        x = np.array(df_new).reshape(p, n) # p*n array\n",
    "    bar_x = x.mean(axis=1)\n",
    "    demean_x = x - bar_x.reshape(p, 1)\n",
    "    bar_S = demean_x @ demean_x.T / n\n",
    "    \n",
    "    ones = np.ones(p)\n",
    "    S_inv_x = np.linalg.solve(bar_S, bar_x)\n",
    "    S_inv_1 = np.linalg.solve(bar_S, ones)\n",
    "    if sigma0 * ones @ S_inv_x < np.sqrt(bar_x @ S_inv_x):\n",
    "        hat_c = sigma0 * S_inv_x / np.sqrt(bar_x @ S_inv_x)\n",
    "    else:\n",
    "        hat_b = np.sqrt((sigma0**2 * ones @ S_inv_1 - 1) / ((bar_x @ S_inv_x) * (ones @ S_inv_1) - (ones @ S_inv_x)**2))\n",
    "        hat_c = S_inv_1 / (ones @ S_inv_1) + hat_b * (S_inv_x - (ones @ S_inv_x)/(ones @ S_inv_1) * S_inv_1)\n",
    "\n",
    "    hat_R = hat_c @ bar_x\n",
    "    hat_r = hat_c @ (bar_S @ hat_c)\n",
    "\n",
    "    # print('plugin: end_date={}'.format(end_date))\n",
    "    return bar_x, bar_S, hat_c, hat_R, hat_r, end_date"
   ]
  },
  {
   "cell_type": "code",
   "execution_count": null,
   "metadata": {},
   "outputs": [],
   "source": [
    "@ray.remote\n",
    "def backtest_bootstrap(n, p, sigma0, end_date, repeats=30, seed=1234):\n",
    "    bar_x, bar_S, cp, Rp, _, _ = ray.get(backtest_plugin.remote(n, p, sigma0, end_date)) # plug-in estimator\n",
    "    \n",
    "    cs, Rs = [], []\n",
    "    for _ in range(repeats):\n",
    "        bsample = np.random.multivariate_normal(mean=bar_x, cov=bar_S, size=n).T # p*n \n",
    "        _, _, cb, Rb, _, _ = ray.get(backtest_plugin.remote(n, p, sigma0, end_date, x=bsample))\n",
    "        cs.append(cb)\n",
    "        Rs.append(Rb)\n",
    "    \n",
    "    gamma = 1 / (1 - p / n)\n",
    "    hat_c = cp + (cp - np.array(cs).mean(axis=0)) / np.sqrt(gamma)\n",
    "    hat_R = Rp + (Rp - np.mean(Rs)) / np.sqrt(gamma)\n",
    "    hat_r = hat_c @ (bar_S @ hat_c)\n",
    "\n",
    "    print('bootstrap: end_date={}'.format(end_date))\n",
    "    return bar_x, bar_S, hat_c, hat_R, hat_r, end_date"
   ]
  },
  {
   "cell_type": "code",
   "execution_count": null,
   "metadata": {},
   "outputs": [],
   "source": [
    "@ray.remote\n",
    "def backtest_spectrum(n, p, sigma0, end_date, method='lse', nspike=0, alpha=None, seed=1234):\n",
    "    bar_x, bar_S, cp, Rp, _, _ = ray.get(backtest_plugin.remote(n, p, sigma0, end_date, seed=seed)) # plug-in estimator\n",
    "\n",
    "    # spectral decomposition\n",
    "    std = np.sqrt(np.diag(bar_S))\n",
    "    corr = np.diag(1 / std) @ bar_S @ np.diag(1 / std)\n",
    "    eig_vals, eig_vecs = np.linalg.eig(corr)\n",
    "    idx = eig_vals.argsort() # from small to large\n",
    "    eig_vals, eig_vecs = eig_vals[idx], eig_vecs[:, idx]\n",
    "\n",
    "    # spectrum correction\n",
    "    if method == 'lse': # use inverse cubic density\n",
    "        if alpha == None:\n",
    "            alpha = spec_lse(n, p, eig_vals) if nspike == 0 else spec_lse(n, p, eig_vals[:-nspike])\n",
    "        # print(alpha)\n",
    "        spec = icd_qtile(np.linspace(1 / 2 / p, 1 - 1 / 2 / p, p), alpha)\n",
    "    else:\n",
    "        raise NotImplementedError\n",
    "    \n",
    "    hat_Sigma = np.diag(std) @ eig_vecs @ np.diag(spec) @ eig_vecs.T @ np.diag(std) # corrected estimate of covariance\n",
    "\n",
    "    ones = np.ones(p)\n",
    "    S_inv_x = np.linalg.solve(hat_Sigma, bar_x)\n",
    "    S_inv_1 = np.linalg.solve(hat_Sigma, ones)\n",
    "    if sigma0 * ones @ S_inv_x < np.sqrt(bar_x @ S_inv_x):\n",
    "        hat_c = sigma0 * S_inv_x / np.sqrt(bar_x @ S_inv_x)\n",
    "    else:\n",
    "        hat_b = np.sqrt((sigma0**2 * ones @ S_inv_1 - 1) / ((bar_x @ S_inv_x) * (ones @ S_inv_1) - (ones @ S_inv_x)**2))\n",
    "        hat_c = S_inv_1 / (ones @ S_inv_1) + hat_b * (S_inv_x - (ones @ S_inv_x)/(ones @ S_inv_1) * S_inv_1)\n",
    "\n",
    "    hat_R = hat_c @ bar_x\n",
    "    hat_r = hat_c @ (hat_Sigma @ hat_c)\n",
    "\n",
    "    print('spectrum: end_date={}'.format(end_date))\n",
    "    return bar_x, hat_Sigma, hat_c, hat_R, hat_r, end_date"
   ]
  },
  {
   "cell_type": "code",
   "execution_count": null,
   "metadata": {},
   "outputs": [],
   "source": [
    "nbacktest = 500\n",
    "n = 500\n",
    "p = 400\n",
    "\n",
    "np.random.seed(1234)\n",
    "stocks = np.random.choice(lst_stock, p, replace=False)\n",
    "df_new = df.swaplevel().loc[stocks].swaplevel()"
   ]
  },
  {
   "cell_type": "code",
   "execution_count": null,
   "metadata": {},
   "outputs": [],
   "source": [
    "future_e = [backtest_equal.remote(n, p, 1, end_date) for end_date in range(nbacktest)]\n",
    "info_e = ray.get(future_e)\n",
    "info_e.sort(key=lambda x: x[-1])\n",
    "\n",
    "ce = np.array([info_e[i][2] for i in range(nbacktest)])\n",
    "Re = np.array([info_e[i][3] for i in range(nbacktest)])\n",
    "re = np.array([info_e[i][4] for i in range(nbacktest)])"
   ]
  },
  {
   "cell_type": "code",
   "execution_count": null,
   "metadata": {},
   "outputs": [],
   "source": [
    "np.save('backtest/ce.npy', ce)\n",
    "np.save('backtest/Re.npy', Re)\n",
    "np.save('backtest/re.npy', re)"
   ]
  },
  {
   "cell_type": "code",
   "execution_count": null,
   "metadata": {},
   "outputs": [],
   "source": [
    "future_p = [backtest_plugin.remote(n, p, 1, end_date) for end_date in range(nbacktest)]\n",
    "info_p = ray.get(future_p)\n",
    "info_p.sort(key=lambda x: x[-1])\n",
    "\n",
    "cp = np.array([info_p[i][2] for i in range(nbacktest)])\n",
    "Rp = np.array([info_p[i][3] for i in range(nbacktest)])\n",
    "rp = np.array([info_p[i][4] for i in range(nbacktest)])"
   ]
  },
  {
   "cell_type": "code",
   "execution_count": null,
   "metadata": {},
   "outputs": [],
   "source": [
    "np.save('backtest/cp.npy', cp)\n",
    "np.save('backtest/Rp.npy', Rp)\n",
    "np.save('backtest/rp.npy', rp)"
   ]
  },
  {
   "cell_type": "code",
   "execution_count": null,
   "metadata": {},
   "outputs": [],
   "source": [
    "future_s = [backtest_spectrum.remote(n, p, 1, end_date, nspike=int(p//20)) for end_date in range(nbacktest)]\n",
    "info_s = ray.get(future_s)\n",
    "info_s.sort(key=lambda x: x[-1])\n",
    "\n",
    "cs = np.array([info_s[i][2] for i in range(nbacktest)])\n",
    "Rs = np.array([info_s[i][3] for i in range(nbacktest)])\n",
    "rs = np.array([info_s[i][4] for i in range(nbacktest)])"
   ]
  },
  {
   "cell_type": "code",
   "execution_count": null,
   "metadata": {},
   "outputs": [],
   "source": [
    "np.save('backtest/cs.npy', cs)\n",
    "np.save('backtest/Rs.npy', Rs)\n",
    "np.save('backtest/rs.npy', rs)"
   ]
  },
  {
   "cell_type": "code",
   "execution_count": null,
   "metadata": {},
   "outputs": [],
   "source": [
    "future_b = [backtest_bootstrap.remote(n, p, 1, end_date, repeats=30) for end_date in range(nbacktest)]\n",
    "info_b = ray.get(future_b)\n",
    "info_b.sort(key=lambda x: x[-1])\n",
    "\n",
    "cb = np.array([info_b[i][2] for i in range(nbacktest)])\n",
    "Rb = np.array([info_b[i][3] for i in range(nbacktest)])\n",
    "rb = np.array([info_b[i][4] for i in range(nbacktest)])"
   ]
  },
  {
   "cell_type": "code",
   "execution_count": null,
   "metadata": {},
   "outputs": [],
   "source": [
    "np.save('backtest/cb.npy', cb)\n",
    "np.save('backtest/Rb.npy', Rb)\n",
    "np.save('backtest/rb.npy', rb)"
   ]
  },
  {
   "cell_type": "code",
   "execution_count": null,
   "metadata": {},
   "outputs": [],
   "source": []
  },
  {
   "cell_type": "code",
   "execution_count": null,
   "metadata": {},
   "outputs": [],
   "source": [
    "dates = lst_date[-n-1:-1] # in sample\n",
    "# dates = lst_date[-n:] # out of sample\n",
    "ret = df.loc[dates].swaplevel().loc[stocks].swaplevel()['return']\n",
    "ret = np.array(ret).reshape(p, n)"
   ]
  },
  {
   "cell_type": "code",
   "execution_count": null,
   "metadata": {},
   "outputs": [],
   "source": [
    "plt.figure(figsize=(16, 4), dpi=80)\n",
    "plt.plot((cp[::-1, :] * ret.T).mean(axis=1).cumsum())\n",
    "plt.plot((cb[::-1, :] * ret.T).mean(axis=1).cumsum())\n",
    "plt.plot((cs[::-1, :] * ret.T).mean(axis=1).cumsum())\n",
    "plt.plot(np.zeros(n), c='black', linestyle='--')\n",
    "plt.legend(['plug-in', 'bootstrap', 'spectrum'])\n",
    "plt.xlabel('trading date')\n",
    "plt.ylabel('cumulative return')\n",
    "plt.show()"
   ]
  },
  {
   "cell_type": "code",
   "execution_count": null,
   "metadata": {},
   "outputs": [],
   "source": [
    "cp2 = cp[::-1, :].clip(0)\n",
    "cp2 = cp2 / cp2.sum(axis=1, keepdims=True)\n",
    "cb2 = cb[::-1, :].clip(0)\n",
    "cb2 = cb2 / cb2.sum(axis=1, keepdims=True)\n",
    "cs2 = cs[::-1, :].clip(0)\n",
    "cs2 = cs2 / cs2.sum(axis=1, keepdims=True)"
   ]
  },
  {
   "cell_type": "code",
   "execution_count": null,
   "metadata": {},
   "outputs": [],
   "source": [
    "plt.figure(figsize=(16, 4), dpi=80)\n",
    "plt.plot((cp2 * ret.T).mean(axis=1).cumsum())\n",
    "plt.plot((cb2 * ret.T).mean(axis=1).cumsum())\n",
    "plt.plot((cs2 * ret.T).mean(axis=1).cumsum())\n",
    "plt.plot((ce * ret.T).mean(axis=1).cumsum())\n",
    "plt.plot(np.zeros(n), c='black', linestyle='--')\n",
    "plt.legend(['plug-in', 'bootstrap', 'spectrum', 'equal'])\n",
    "plt.xlabel('trading date')\n",
    "plt.ylabel('cumulative return')\n",
    "plt.show()"
   ]
  },
  {
   "cell_type": "code",
   "execution_count": null,
   "metadata": {},
   "outputs": [],
   "source": [
    "plt.figure(figsize=(16, 4), dpi=80)\n",
    "plt.plot((cp2 * ret.T).mean(axis=1).cumsum() - (ce * ret.T).mean(axis=1).cumsum())\n",
    "plt.plot((cb2 * ret.T).mean(axis=1).cumsum() - (ce * ret.T).mean(axis=1).cumsum())\n",
    "plt.plot((cs2 * ret.T).mean(axis=1).cumsum() - (ce * ret.T).mean(axis=1).cumsum())\n",
    "plt.plot(np.zeros(n), c='black', linestyle='--')\n",
    "plt.legend(['plug-in', 'bootstrap', 'spectrum'])\n",
    "plt.xlabel('trading date')\n",
    "plt.ylabel('cumulative return')\n",
    "plt.show()"
   ]
  },
  {
   "cell_type": "code",
   "execution_count": null,
   "metadata": {},
   "outputs": [],
   "source": []
  }
 ],
 "metadata": {
  "kernelspec": {
   "display_name": "Python 3.8.5 ('base': conda)",
   "language": "python",
   "name": "python3"
  },
  "language_info": {
   "codemirror_mode": {
    "name": "ipython",
    "version": 3
   },
   "file_extension": ".py",
   "mimetype": "text/x-python",
   "name": "python",
   "nbconvert_exporter": "python",
   "pygments_lexer": "ipython3",
   "version": "3.8.5"
  },
  "orig_nbformat": 4,
  "vscode": {
   "interpreter": {
    "hash": "a0d723dbd914634814b4aa02d69d099f6dc0bb43712694fff5205b04a00b532f"
   }
  }
 },
 "nbformat": 4,
 "nbformat_minor": 2
}
